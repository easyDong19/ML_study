{
 "cells": [
  {
   "cell_type": "markdown",
   "source": [
    "## 곱셈 계층 구현"
   ],
   "metadata": {
    "collapsed": false
   },
   "id": "1014a808b628135b"
  },
  {
   "cell_type": "code",
   "outputs": [],
   "source": [
    "from typing import Tuple\n",
    "\n",
    "\n",
    "class MulLayer:\n",
    "    def __init__(self):\n",
    "        self.x = None\n",
    "        self.y = None\n",
    "        \n",
    "    def forward(self, x:float,y:float) -> float:\n",
    "        self.x = x\n",
    "        self.y = y \n",
    "        out = x * y\n",
    "        \n",
    "        return out\n",
    "    \n",
    "    def backward(self, dout:float) -> Tuple[float,float]:\n",
    "        # x와 y를 바꾼다\n",
    "        dx = dout * self.y\n",
    "        dy = dout * self.x\n",
    "        \n",
    "        return dx,dy"
   ],
   "metadata": {
    "collapsed": false,
    "ExecuteTime": {
     "end_time": "2024-08-04T13:58:00.112592Z",
     "start_time": "2024-08-04T13:58:00.108468Z"
    }
   },
   "id": "564bba7a8d77c07d",
   "execution_count": 1
  },
  {
   "cell_type": "code",
   "outputs": [],
   "source": [
    "apple = 100\n",
    "apple_num = 2\n",
    "tax = 1.1\n",
    "\n",
    "mul_apple_layer = MulLayer()\n",
    "mul_tax_layer = MulLayer()\n",
    "\n"
   ],
   "metadata": {
    "collapsed": false
   },
   "id": "52b701f1a56818da"
  },
  {
   "cell_type": "markdown",
   "source": [
    "## 덧셈 계층"
   ],
   "metadata": {
    "collapsed": false
   },
   "id": "a476906768efe793"
  },
  {
   "cell_type": "code",
   "outputs": [],
   "source": [
    "class AddLayer:\n",
    "    def __init__(self):\n",
    "        #덧셈 계층은 흘러 보내기만 하면 되서\n",
    "        #초기화 필요 없음\n",
    "        pass \n",
    "    \n",
    "    def forward(self,x:float,y:float) -> float:\n",
    "        out = x+y\n",
    "        return out\n",
    "    \n",
    "    def backward(self,dout:float) -> Tuple[float,float]:\n",
    "        dx = dout * 1\n",
    "        dy = dout * 1\n",
    "        return dx,dy"
   ],
   "metadata": {
    "collapsed": false,
    "ExecuteTime": {
     "end_time": "2024-08-04T13:59:01.551857Z",
     "start_time": "2024-08-04T13:59:01.542645Z"
    }
   },
   "id": "edbd870c2d244e8a",
   "execution_count": 2
  }
 ],
 "metadata": {
  "kernelspec": {
   "name": "ml_study",
   "language": "python",
   "display_name": "ML_study"
  },
  "language_info": {
   "codemirror_mode": {
    "name": "ipython",
    "version": 2
   },
   "file_extension": ".py",
   "mimetype": "text/x-python",
   "name": "python",
   "nbconvert_exporter": "python",
   "pygments_lexer": "ipython2",
   "version": "2.7.6"
  }
 },
 "nbformat": 4,
 "nbformat_minor": 5
}
