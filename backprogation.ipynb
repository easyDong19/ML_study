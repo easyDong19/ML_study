{
 "cells": [
  {
   "cell_type": "markdown",
   "source": [
    "## 곱셈 계층 구현"
   ],
   "metadata": {
    "collapsed": false
   },
   "id": "1014a808b628135b"
  },
  {
   "cell_type": "code",
   "outputs": [],
   "source": [
    "from typing import Tuple\n",
    "\n",
    "\n",
    "class MulLayer:\n",
    "    def __init__(self):\n",
    "        self.x = None\n",
    "        self.y = None\n",
    "        \n",
    "    def forward(self, x:float,y:float) -> float:\n",
    "        self.x = x\n",
    "        self.y = y \n",
    "        out = x * y\n",
    "        \n",
    "        return out\n",
    "    \n",
    "    def backward(self, dout:float) -> Tuple[float,float]:\n",
    "        # x와 y를 바꾼다\n",
    "        dx = dout * self.y\n",
    "        dy = dout * self.x\n",
    "        \n",
    "        return dx,dy"
   ],
   "metadata": {
    "collapsed": false,
    "ExecuteTime": {
     "end_time": "2024-08-04T13:58:00.112592Z",
     "start_time": "2024-08-04T13:58:00.108468Z"
    }
   },
   "id": "564bba7a8d77c07d",
   "execution_count": 1
  },
  {
   "cell_type": "code",
   "outputs": [],
   "source": [
    "apple = 100\n",
    "apple_num = 2\n",
    "tax = 1.1\n",
    "\n",
    "mul_apple_layer = MulLayer()\n",
    "mul_tax_layer = MulLayer()\n",
    "\n"
   ],
   "metadata": {
    "collapsed": false
   },
   "id": "52b701f1a56818da"
  },
  {
   "cell_type": "markdown",
   "source": [
    "## 덧셈 계층"
   ],
   "metadata": {
    "collapsed": false
   },
   "id": "a476906768efe793"
  },
  {
   "cell_type": "code",
   "outputs": [],
   "source": [
    "class AddLayer:\n",
    "    def __init__(self):\n",
    "        #덧셈 계층은 흘러 보내기만 하면 되서\n",
    "        #초기화 필요 없음\n",
    "        pass \n",
    "    \n",
    "    def forward(self,x:float,y:float) -> float:\n",
    "        out = x+y\n",
    "        return out\n",
    "    \n",
    "    def backward(self,dout:float) -> Tuple[float,float]:\n",
    "        dx = dout * 1\n",
    "        dy = dout * 1\n",
    "        return dx,dy"
   ],
   "metadata": {
    "collapsed": false,
    "ExecuteTime": {
     "end_time": "2024-08-04T14:16:41.986223Z",
     "start_time": "2024-08-04T14:16:41.978472Z"
    }
   },
   "id": "edbd870c2d244e8a",
   "execution_count": 3
  },
  {
   "cell_type": "markdown",
   "source": [
    "## 활성화 계층 "
   ],
   "metadata": {
    "collapsed": false
   },
   "id": "3b72321116f88328"
  },
  {
   "cell_type": "markdown",
   "source": [
    "### RELU 함수"
   ],
   "metadata": {
    "collapsed": false
   },
   "id": "ef965f71dbc2ebe8"
  },
  {
   "cell_type": "code",
   "outputs": [],
   "source": [
    "class Relu:\n",
    "    def __init__(self):\n",
    "        self.mask = None \n",
    "    \n",
    "    def forward(self, x):\n",
    "        self.mask = (x <= 0)\n",
    "        out = x.copy()\n",
    "        out[self.mask] = 0\n",
    "        \n",
    "        return out\n",
    "    \n",
    "    def backward(self, dout):\n",
    "        dout[self.mask] = 0\n",
    "        dx = dout \n",
    "        \n",
    "        return dx "
   ],
   "metadata": {
    "collapsed": false,
    "ExecuteTime": {
     "end_time": "2024-08-04T14:19:27.775568Z",
     "start_time": "2024-08-04T14:19:27.770670Z"
    }
   },
   "id": "5e4093c3b6419a07",
   "execution_count": 4
  },
  {
   "cell_type": "code",
   "outputs": [
    {
     "name": "stdout",
     "output_type": "stream",
     "text": [
      "[[ 1.  -0.5]\n",
      " [-2.   3. ]]\n",
      "[[False  True]\n",
      " [ True False]]\n"
     ]
    }
   ],
   "source": [
    "import numpy as np\n",
    "x = np.array([[1.0,-0.5], [-2.0,3.0]])\n",
    "print(x)\n",
    "mask = (x<=0)\n",
    "print(mask)"
   ],
   "metadata": {
    "collapsed": false,
    "ExecuteTime": {
     "end_time": "2024-08-04T14:20:17.716401Z",
     "start_time": "2024-08-04T14:20:01.440855Z"
    }
   },
   "id": "1488c061ebc60b87",
   "execution_count": 6
  },
  {
   "cell_type": "markdown",
   "source": [
    "## 시그모이드"
   ],
   "metadata": {
    "collapsed": false
   },
   "id": "d455d5fdca32bb9"
  },
  {
   "cell_type": "code",
   "outputs": [
    {
     "ename": "SyntaxError",
     "evalue": "unexpected EOF while parsing (3391426782.py, line 2)",
     "output_type": "error",
     "traceback": [
      "\u001B[0;36m  Cell \u001B[0;32mIn[2], line 2\u001B[0;36m\u001B[0m\n\u001B[0;31m    def __init__(self):\u001B[0m\n\u001B[0m                       ^\u001B[0m\n\u001B[0;31mSyntaxError\u001B[0m\u001B[0;31m:\u001B[0m unexpected EOF while parsing\n"
     ]
    }
   ],
   "source": [
    "def sigmoid(x):\n",
    "    return 1 / (1+ np.exp(-x))\n",
    "\n",
    "class Sigmoid:\n",
    "    def __init__(self):\n",
    "        self.out = None\n",
    "        \n",
    "    def forward(self, x):\n",
    "        out = sigmoid(x)\n",
    "        self.out = out\n",
    "        return out\n",
    "    \n",
    "    def backward(self, dout):\n",
    "        dx = dout * (1 - self.out) * self.out"
   ],
   "metadata": {
    "collapsed": false,
    "ExecuteTime": {
     "end_time": "2024-08-06T13:30:49.759423Z",
     "start_time": "2024-08-06T13:30:49.747801Z"
    }
   },
   "id": "91bf06f83c3e371a",
   "execution_count": 2
  },
  {
   "cell_type": "markdown",
   "source": [
    "## Affine 계층"
   ],
   "metadata": {
    "collapsed": false
   },
   "id": "e477dbc56e8e7522"
  },
  {
   "cell_type": "code",
   "outputs": [
    {
     "name": "stdout",
     "output_type": "stream",
     "text": [
      "[[ 0  0  0]\n",
      " [10 10 10]]\n",
      "[[ 1  2  3]\n",
      " [11 12 13]]\n",
      "[[1 2 3]\n",
      " [4 5 6]]\n",
      "[5 7 9]\n"
     ]
    }
   ],
   "source": [
    "import numpy as np\n",
    "\n",
    "# 순전파 때의 편향 덧셈\n",
    "X_dot_W = np.array([[0,0,0], [10,10,10]])\n",
    "B = np.array([1,2,3])\n",
    "\n",
    "print(X_dot_W)\n",
    "print(X_dot_W + B)\n",
    "\n",
    "# 역전파 때의 편향 덧셈\n",
    "dY = np.array([[1,2,3],[4,5,6]])\n",
    "print(dY)\n",
    "dB = np.sum(dY, axis=0)\n",
    "print(dB)"
   ],
   "metadata": {
    "collapsed": false,
    "ExecuteTime": {
     "end_time": "2024-08-06T13:51:35.221799Z",
     "start_time": "2024-08-06T13:51:35.212879Z"
    }
   },
   "id": "ea05995152847d85",
   "execution_count": 5
  },
  {
   "cell_type": "code",
   "outputs": [],
   "source": [
    "class Affine:\n",
    "    def __init__(self, W, b):\n",
    "        self.W = W\n",
    "        self.b = b\n",
    "        self.x = None\n",
    "        self.dW = None\n",
    "        self.db = None\n",
    "        \n",
    "    def forward(self, x):\n",
    "        self.x = x \n",
    "        out = np.dot(x, self.W) + self.b\n",
    "        \n",
    "        return out\n",
    "    \n",
    "    def backward(self, dout):\n",
    "        dx = np.dot(dout, self.W.T)\n",
    "        self.dW = np.dot(self.x.T, dout)\n",
    "        self.db = np.sum(dout, axis=0)\n",
    "        \n",
    "        return dx\n",
    "    \n",
    "    "
   ],
   "metadata": {
    "collapsed": false
   },
   "id": "dbfc73467b270853"
  }
 ],
 "metadata": {
  "kernelspec": {
   "name": "ml_study",
   "language": "python",
   "display_name": "ML_study"
  },
  "language_info": {
   "codemirror_mode": {
    "name": "ipython",
    "version": 2
   },
   "file_extension": ".py",
   "mimetype": "text/x-python",
   "name": "python",
   "nbconvert_exporter": "python",
   "pygments_lexer": "ipython2",
   "version": "2.7.6"
  }
 },
 "nbformat": 4,
 "nbformat_minor": 5
}
